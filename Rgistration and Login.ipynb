{
  "nbformat": 4,
  "nbformat_minor": 0,
  "metadata": {
    "colab": {
      "name": "Untitled1.ipynb",
      "provenance": [],
      "collapsed_sections": []
    },
    "kernelspec": {
      "name": "python3",
      "display_name": "Python 3"
    },
    "language_info": {
      "name": "python"
    }
  },
  "cells": [
    {
      "cell_type": "code",
      "execution_count": 17,
      "metadata": {
        "colab": {
          "base_uri": "https://localhost:8080/"
        },
        "id": "GSn4YSQ5OUvV",
        "outputId": "2420d664-11b9-4b4f-fd72-a0796e8bf9b1"
      },
      "outputs": [
        {
          "name": "stdout",
          "output_type": "stream",
          "text": [
            "Please select an option:\n",
            " 1 - Register\n",
            " 2 - Login \n",
            " 3 - Exit\n",
            "1\n",
            "Enter your e-mail:jogoj\n",
            "E-mail is Invalid !!!\n",
            "eg:- sherlock@gmail.com\n",
            "Please enter a valid email:ram@gmail.com\n",
            "Enter your password:Adsd@12\n",
            "Successfully registered !!!\n",
            "Please select an option:\n",
            " 1 - Register\n",
            " 2 - Login \n",
            " 3 - Exit\n",
            "3\n"
          ]
        }
      ],
      "source": [
        "import json\n",
        "import re\n",
        "def register():\n",
        "    email_id = input(\"Enter your e-mail:\")\n",
        "    pattern1 = '^[A-Za-z0-9._%+-]+@[A-Za-z0-9]+\\.[A-Z|a-z]{2,3}$'\n",
        "    pattern2 = '^(?=.*\\d)(?=.*[a-z])(?=.*[A-Z])(?=.*[@#$%*]).{5,16}$'\n",
        "    while True:\n",
        "        if re.search(pattern1,email_id) == None:\n",
        "            print('E-mail is Invalid !!!')\n",
        "            print(\"eg:- sherlock@gmail.com\")\n",
        "            email_id = input(\"Please enter a valid email:\")\n",
        "        else:\n",
        "            break\n",
        "    password = input(\"Enter your password:\")\n",
        "    while True:\n",
        "        if re.search(pattern2,password) == None:\n",
        "            print('Password is Invalid !!!')\n",
        "            print(\"It Should contain minimum One Special character,\\nOne Digit,\\nOne Uppercase,\\nOne Lowercase,\\nMinimum length 5 to 16 \")\n",
        "            password = input(\"Please enter a valid password:\")\n",
        "        else:\n",
        "            print(\"Successfully registered !!!\")\n",
        "            break\n",
        "    with open('details.txt', mode = 'a') as file:\n",
        "        str1 = '{ \"email\": \"' + email_id + '\", \"pwd\":\"' + password + '\" }'+'\\n'\n",
        "        file.write(str1)\n",
        "        \n",
        "        \n",
        "def login():\n",
        "    email_id = input(\"Enter your e-mail:\")\n",
        "    password = input(\"Enter your password:\")\n",
        "    with open('details.txt') as file:\n",
        "        for line in file:\n",
        "            check = json.loads(line)\n",
        "            if check['email'] == email_id:\n",
        "                if check['pwd'] == password:\n",
        "                    print('Login Successful !!!')\n",
        "                    break\n",
        "                else:\n",
        "                    forget = int(input(\"Did you forget password\\n 1 - Yes 2 - No\"))\n",
        "                    if forget == 1:\n",
        "                        print('Your password is:',check['pwd'])\n",
        "                        break\n",
        "                    else:\n",
        "                        break\n",
        "            \n",
        "            else:\n",
        "                print(\"Email is not registered !!!.\\nWould you like to register? 1-Yes 2-No\")\n",
        "                reg = int(input())\n",
        "                if reg == 1:\n",
        "                    register()\n",
        "                    break\n",
        "                else:\n",
        "                    break\n",
        "\n",
        "\n",
        "while True:\n",
        "    print(\"Please select an option:\\n 1 - Register\\n 2 - Login \\n 3 - Exit\")\n",
        "    num = int(input())\n",
        "    if num == 1:\n",
        "        register()\n",
        "    elif num == 2:\n",
        "        login()\n",
        "    else:\n",
        "        break"
      ]
    },
    {
      "cell_type": "code",
      "source": [
        "from google.colab import drive\n",
        "drive.mount('/content/drive')"
      ],
      "metadata": {
        "id": "FP3h6Z17Oaug"
      },
      "execution_count": null,
      "outputs": []
    }
  ]
}